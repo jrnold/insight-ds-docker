{
 "cells": [
  {
   "cell_type": "markdown",
   "metadata": {},
   "source": [
    "The purpose of this Jupyter notebook is to demonstrate connecting from a Jupyter notebook running in a container to a postgres database running in another container."
   ]
  },
  {
   "cell_type": "markdown",
   "metadata": {},
   "source": [
    "## Postgres Installation\n",
    "\n",
    "The Postgres database is run in a separate linked container, that by default named `birth_db`. This container uses the `birth_db` image, which is built from `birth_db/Dockerfile`. That image is based on the lastest [postgres](https://hub.docker.com/_/postgres/) image. Additionally, it creates the `birth_db` database with a single table named `birth_data`, and populates `birth_data` table with the rows in `births2012_downsampled.csv`.\n"
   ]
  },
  {
   "cell_type": "markdown",
   "metadata": {},
   "source": [
    "The default postgres user in Docker is `postgres`, but that can be changed with the `POSTGRES_USER` environment variable. \n",
    "\n",
    "The password for the postgres user is set by the environment variable `POSTGRES_PASSWORD`, with the defalt set in `birth_db/Dockerfile`. Obviously, the way I am doing it here is insecure and really stupid, so I need to figure out how people handle this in production. The Docker [Postgres](https://hub.docker.com/_/postgres/) docs mention something about referencing files for different environment variables.\n",
    "\n",
    "How to reference the hostnames of linked containers took me a while to figure out and I finally found the docs [here](https://docs.docker.com/compose/networking/)."
   ]
  },
  {
   "cell_type": "code",
   "execution_count": 1,
   "metadata": {},
   "outputs": [],
   "source": [
    "from sqlalchemy import create_engine"
   ]
  },
  {
   "cell_type": "code",
   "execution_count": 2,
   "metadata": {},
   "outputs": [],
   "source": [
    "# Define a database name\n",
    "dbname = 'birth_db'\n",
    "username = 'postgres' \n",
    "password = 'mysecretpassword'\n",
    "hostname = 'birth_db'\n",
    "port = '5432'\n",
    "db_uri = f\"postgres://{username}:{password}@{hostname}:{port}/{dbname}\"\n",
    "engine = create_engine(db_uri)"
   ]
  },
  {
   "cell_type": "markdown",
   "metadata": {},
   "source": [
    "The Postgres container has already created and populated the `birth_data` table."
   ]
  },
  {
   "cell_type": "code",
   "execution_count": 3,
   "metadata": {},
   "outputs": [
    {
     "data": {
      "text/plain": [
       "['birth_data']"
      ]
     },
     "execution_count": 3,
     "metadata": {},
     "output_type": "execute_result"
    }
   ],
   "source": [
    "engine.table_names()"
   ]
  },
  {
   "cell_type": "markdown",
   "metadata": {},
   "source": [
    "# Explore with Pandas"
   ]
  },
  {
   "cell_type": "code",
   "execution_count": 6,
   "metadata": {},
   "outputs": [],
   "source": [
    "import pandas as pd"
   ]
  },
  {
   "cell_type": "markdown",
   "metadata": {},
   "source": [
    "Read birth data using `pd.read_sql_table`:"
   ]
  },
  {
   "cell_type": "code",
   "execution_count": 7,
   "metadata": {},
   "outputs": [
    {
     "data": {
      "text/html": [
       "<div>\n",
       "<style scoped>\n",
       "    .dataframe tbody tr th:only-of-type {\n",
       "        vertical-align: middle;\n",
       "    }\n",
       "\n",
       "    .dataframe tbody tr th {\n",
       "        vertical-align: top;\n",
       "    }\n",
       "\n",
       "    .dataframe thead th {\n",
       "        text-align: right;\n",
       "    }\n",
       "</style>\n",
       "<table border=\"1\" class=\"dataframe\">\n",
       "  <thead>\n",
       "    <tr style=\"text-align: right;\">\n",
       "      <th></th>\n",
       "      <th>index</th>\n",
       "      <th>alcohol_use</th>\n",
       "      <th>anencephaly</th>\n",
       "      <th>attendant</th>\n",
       "      <th>birth_loc_type</th>\n",
       "      <th>birth_month</th>\n",
       "      <th>birth_state</th>\n",
       "      <th>birth_weight</th>\n",
       "      <th>birth_year</th>\n",
       "      <th>cigarette_use</th>\n",
       "      <th>...</th>\n",
       "      <th>mother_state</th>\n",
       "      <th>population</th>\n",
       "      <th>pregnancy_weight</th>\n",
       "      <th>resident</th>\n",
       "      <th>revision</th>\n",
       "      <th>spina_bifida</th>\n",
       "      <th>table</th>\n",
       "      <th>timestamp</th>\n",
       "      <th>uses_tobacco</th>\n",
       "      <th>weight_gain</th>\n",
       "    </tr>\n",
       "  </thead>\n",
       "  <tbody>\n",
       "    <tr>\n",
       "      <th>0</th>\n",
       "      <td>0</td>\n",
       "      <td>NaN</td>\n",
       "      <td>NaN</td>\n",
       "      <td>MD</td>\n",
       "      <td>NaN</td>\n",
       "      <td>Jan</td>\n",
       "      <td>NaN</td>\n",
       "      <td>4500.0</td>\n",
       "      <td>2012</td>\n",
       "      <td>NaN</td>\n",
       "      <td>...</td>\n",
       "      <td>NaN</td>\n",
       "      <td>NaN</td>\n",
       "      <td>NaN</td>\n",
       "      <td>Resident</td>\n",
       "      <td>S</td>\n",
       "      <td>NaN</td>\n",
       "      <td>births12.txt</td>\n",
       "      <td>1325405431</td>\n",
       "      <td>NaN</td>\n",
       "      <td>40.0</td>\n",
       "    </tr>\n",
       "    <tr>\n",
       "      <th>1</th>\n",
       "      <td>1</td>\n",
       "      <td>NaN</td>\n",
       "      <td>NaN</td>\n",
       "      <td>MD</td>\n",
       "      <td>NaN</td>\n",
       "      <td>Jan</td>\n",
       "      <td>NaN</td>\n",
       "      <td>4500.0</td>\n",
       "      <td>2012</td>\n",
       "      <td>NaN</td>\n",
       "      <td>...</td>\n",
       "      <td>NaN</td>\n",
       "      <td>NaN</td>\n",
       "      <td>NaN</td>\n",
       "      <td>Intra-State/Territor Non-resident (diff county)</td>\n",
       "      <td>S</td>\n",
       "      <td>NaN</td>\n",
       "      <td>births12.txt</td>\n",
       "      <td>1325882986</td>\n",
       "      <td>NaN</td>\n",
       "      <td>49.0</td>\n",
       "    </tr>\n",
       "    <tr>\n",
       "      <th>2</th>\n",
       "      <td>2</td>\n",
       "      <td>NaN</td>\n",
       "      <td>NaN</td>\n",
       "      <td>MD</td>\n",
       "      <td>NaN</td>\n",
       "      <td>Jan</td>\n",
       "      <td>NaN</td>\n",
       "      <td>2500.0</td>\n",
       "      <td>2012</td>\n",
       "      <td>NaN</td>\n",
       "      <td>...</td>\n",
       "      <td>NaN</td>\n",
       "      <td>NaN</td>\n",
       "      <td>NaN</td>\n",
       "      <td>Resident</td>\n",
       "      <td>S</td>\n",
       "      <td>NaN</td>\n",
       "      <td>births12.txt</td>\n",
       "      <td>1326367089</td>\n",
       "      <td>NaN</td>\n",
       "      <td>30.0</td>\n",
       "    </tr>\n",
       "    <tr>\n",
       "      <th>3</th>\n",
       "      <td>3</td>\n",
       "      <td>NaN</td>\n",
       "      <td>NaN</td>\n",
       "      <td>MD</td>\n",
       "      <td>NaN</td>\n",
       "      <td>Jan</td>\n",
       "      <td>NaN</td>\n",
       "      <td>3000.0</td>\n",
       "      <td>2012</td>\n",
       "      <td>NaN</td>\n",
       "      <td>...</td>\n",
       "      <td>NaN</td>\n",
       "      <td>NaN</td>\n",
       "      <td>NaN</td>\n",
       "      <td>Resident</td>\n",
       "      <td>S</td>\n",
       "      <td>NaN</td>\n",
       "      <td>births12.txt</td>\n",
       "      <td>1326838810</td>\n",
       "      <td>NaN</td>\n",
       "      <td>15.0</td>\n",
       "    </tr>\n",
       "    <tr>\n",
       "      <th>4</th>\n",
       "      <td>4</td>\n",
       "      <td>NaN</td>\n",
       "      <td>NaN</td>\n",
       "      <td>MD</td>\n",
       "      <td>NaN</td>\n",
       "      <td>Jan</td>\n",
       "      <td>NaN</td>\n",
       "      <td>4000.0</td>\n",
       "      <td>2012</td>\n",
       "      <td>NaN</td>\n",
       "      <td>...</td>\n",
       "      <td>NaN</td>\n",
       "      <td>NaN</td>\n",
       "      <td>NaN</td>\n",
       "      <td>Intra-State/Territor Non-resident (diff county)</td>\n",
       "      <td>S</td>\n",
       "      <td>NaN</td>\n",
       "      <td>births12.txt</td>\n",
       "      <td>1327339729</td>\n",
       "      <td>NaN</td>\n",
       "      <td>48.0</td>\n",
       "    </tr>\n",
       "  </tbody>\n",
       "</table>\n",
       "<p>5 rows × 38 columns</p>\n",
       "</div>"
      ],
      "text/plain": [
       "   index  alcohol_use  anencephaly attendant  birth_loc_type birth_month  \\\n",
       "0      0          NaN          NaN        MD             NaN         Jan   \n",
       "1      1          NaN          NaN        MD             NaN         Jan   \n",
       "2      2          NaN          NaN        MD             NaN         Jan   \n",
       "3      3          NaN          NaN        MD             NaN         Jan   \n",
       "4      4          NaN          NaN        MD             NaN         Jan   \n",
       "\n",
       "   birth_state  birth_weight  birth_year  cigarette_use     ...      \\\n",
       "0          NaN        4500.0        2012            NaN     ...       \n",
       "1          NaN        4500.0        2012            NaN     ...       \n",
       "2          NaN        2500.0        2012            NaN     ...       \n",
       "3          NaN        3000.0        2012            NaN     ...       \n",
       "4          NaN        4000.0        2012            NaN     ...       \n",
       "\n",
       "   mother_state  population  pregnancy_weight  \\\n",
       "0           NaN         NaN               NaN   \n",
       "1           NaN         NaN               NaN   \n",
       "2           NaN         NaN               NaN   \n",
       "3           NaN         NaN               NaN   \n",
       "4           NaN         NaN               NaN   \n",
       "\n",
       "                                          resident revision spina_bifida  \\\n",
       "0                                         Resident        S          NaN   \n",
       "1  Intra-State/Territor Non-resident (diff county)        S          NaN   \n",
       "2                                         Resident        S          NaN   \n",
       "3                                         Resident        S          NaN   \n",
       "4  Intra-State/Territor Non-resident (diff county)        S          NaN   \n",
       "\n",
       "          table   timestamp  uses_tobacco weight_gain  \n",
       "0  births12.txt  1325405431           NaN        40.0  \n",
       "1  births12.txt  1325882986           NaN        49.0  \n",
       "2  births12.txt  1326367089           NaN        30.0  \n",
       "3  births12.txt  1326838810           NaN        15.0  \n",
       "4  births12.txt  1327339729           NaN        48.0  \n",
       "\n",
       "[5 rows x 38 columns]"
      ]
     },
     "execution_count": 7,
     "metadata": {},
     "output_type": "execute_result"
    }
   ],
   "source": [
    "birth_data = pd.read_sql_table(\"birth_data\", engine)\n",
    "birth_data.head()"
   ]
  },
  {
   "cell_type": "markdown",
   "metadata": {},
   "source": [
    "Read birth data using `pd.read_sql` with SQL query"
   ]
  },
  {
   "cell_type": "code",
   "execution_count": 8,
   "metadata": {},
   "outputs": [
    {
     "data": {
      "text/html": [
       "<div>\n",
       "<style scoped>\n",
       "    .dataframe tbody tr th:only-of-type {\n",
       "        vertical-align: middle;\n",
       "    }\n",
       "\n",
       "    .dataframe tbody tr th {\n",
       "        vertical-align: top;\n",
       "    }\n",
       "\n",
       "    .dataframe thead th {\n",
       "        text-align: right;\n",
       "    }\n",
       "</style>\n",
       "<table border=\"1\" class=\"dataframe\">\n",
       "  <thead>\n",
       "    <tr style=\"text-align: right;\">\n",
       "      <th></th>\n",
       "      <th>index</th>\n",
       "      <th>alcohol_use</th>\n",
       "      <th>anencephaly</th>\n",
       "      <th>attendant</th>\n",
       "      <th>birth_loc_type</th>\n",
       "      <th>birth_month</th>\n",
       "      <th>birth_state</th>\n",
       "      <th>birth_weight</th>\n",
       "      <th>birth_year</th>\n",
       "      <th>cigarette_use</th>\n",
       "      <th>...</th>\n",
       "      <th>mother_state</th>\n",
       "      <th>population</th>\n",
       "      <th>pregnancy_weight</th>\n",
       "      <th>resident</th>\n",
       "      <th>revision</th>\n",
       "      <th>spina_bifida</th>\n",
       "      <th>table</th>\n",
       "      <th>timestamp</th>\n",
       "      <th>uses_tobacco</th>\n",
       "      <th>weight_gain</th>\n",
       "    </tr>\n",
       "  </thead>\n",
       "  <tbody>\n",
       "    <tr>\n",
       "      <th>0</th>\n",
       "      <td>0</td>\n",
       "      <td>None</td>\n",
       "      <td>None</td>\n",
       "      <td>MD</td>\n",
       "      <td>None</td>\n",
       "      <td>Jan</td>\n",
       "      <td>None</td>\n",
       "      <td>4500.0</td>\n",
       "      <td>2012</td>\n",
       "      <td>None</td>\n",
       "      <td>...</td>\n",
       "      <td>None</td>\n",
       "      <td>None</td>\n",
       "      <td>None</td>\n",
       "      <td>Resident</td>\n",
       "      <td>S</td>\n",
       "      <td>None</td>\n",
       "      <td>births12.txt</td>\n",
       "      <td>1325405431</td>\n",
       "      <td>None</td>\n",
       "      <td>40.0</td>\n",
       "    </tr>\n",
       "    <tr>\n",
       "      <th>1</th>\n",
       "      <td>1</td>\n",
       "      <td>None</td>\n",
       "      <td>None</td>\n",
       "      <td>MD</td>\n",
       "      <td>None</td>\n",
       "      <td>Jan</td>\n",
       "      <td>None</td>\n",
       "      <td>4500.0</td>\n",
       "      <td>2012</td>\n",
       "      <td>None</td>\n",
       "      <td>...</td>\n",
       "      <td>None</td>\n",
       "      <td>None</td>\n",
       "      <td>None</td>\n",
       "      <td>Intra-State/Territor Non-resident (diff county)</td>\n",
       "      <td>S</td>\n",
       "      <td>None</td>\n",
       "      <td>births12.txt</td>\n",
       "      <td>1325882986</td>\n",
       "      <td>None</td>\n",
       "      <td>49.0</td>\n",
       "    </tr>\n",
       "    <tr>\n",
       "      <th>2</th>\n",
       "      <td>2</td>\n",
       "      <td>None</td>\n",
       "      <td>None</td>\n",
       "      <td>MD</td>\n",
       "      <td>None</td>\n",
       "      <td>Jan</td>\n",
       "      <td>None</td>\n",
       "      <td>2500.0</td>\n",
       "      <td>2012</td>\n",
       "      <td>None</td>\n",
       "      <td>...</td>\n",
       "      <td>None</td>\n",
       "      <td>None</td>\n",
       "      <td>None</td>\n",
       "      <td>Resident</td>\n",
       "      <td>S</td>\n",
       "      <td>None</td>\n",
       "      <td>births12.txt</td>\n",
       "      <td>1326367089</td>\n",
       "      <td>None</td>\n",
       "      <td>30.0</td>\n",
       "    </tr>\n",
       "    <tr>\n",
       "      <th>3</th>\n",
       "      <td>3</td>\n",
       "      <td>None</td>\n",
       "      <td>None</td>\n",
       "      <td>MD</td>\n",
       "      <td>None</td>\n",
       "      <td>Jan</td>\n",
       "      <td>None</td>\n",
       "      <td>3000.0</td>\n",
       "      <td>2012</td>\n",
       "      <td>None</td>\n",
       "      <td>...</td>\n",
       "      <td>None</td>\n",
       "      <td>None</td>\n",
       "      <td>None</td>\n",
       "      <td>Resident</td>\n",
       "      <td>S</td>\n",
       "      <td>None</td>\n",
       "      <td>births12.txt</td>\n",
       "      <td>1326838810</td>\n",
       "      <td>None</td>\n",
       "      <td>15.0</td>\n",
       "    </tr>\n",
       "    <tr>\n",
       "      <th>4</th>\n",
       "      <td>4</td>\n",
       "      <td>None</td>\n",
       "      <td>None</td>\n",
       "      <td>MD</td>\n",
       "      <td>None</td>\n",
       "      <td>Jan</td>\n",
       "      <td>None</td>\n",
       "      <td>4000.0</td>\n",
       "      <td>2012</td>\n",
       "      <td>None</td>\n",
       "      <td>...</td>\n",
       "      <td>None</td>\n",
       "      <td>None</td>\n",
       "      <td>None</td>\n",
       "      <td>Intra-State/Territor Non-resident (diff county)</td>\n",
       "      <td>S</td>\n",
       "      <td>None</td>\n",
       "      <td>births12.txt</td>\n",
       "      <td>1327339729</td>\n",
       "      <td>None</td>\n",
       "      <td>48.0</td>\n",
       "    </tr>\n",
       "    <tr>\n",
       "      <th>5</th>\n",
       "      <td>5</td>\n",
       "      <td>None</td>\n",
       "      <td>None</td>\n",
       "      <td>Certified Nurse or Midwife</td>\n",
       "      <td>None</td>\n",
       "      <td>Jan</td>\n",
       "      <td>None</td>\n",
       "      <td>8165.0</td>\n",
       "      <td>2012</td>\n",
       "      <td>None</td>\n",
       "      <td>...</td>\n",
       "      <td>None</td>\n",
       "      <td>None</td>\n",
       "      <td>None</td>\n",
       "      <td>Intra-State/Territor Non-resident (diff county)</td>\n",
       "      <td>S</td>\n",
       "      <td>None</td>\n",
       "      <td>births12.txt</td>\n",
       "      <td>1327819183</td>\n",
       "      <td>None</td>\n",
       "      <td>39.0</td>\n",
       "    </tr>\n",
       "    <tr>\n",
       "      <th>6</th>\n",
       "      <td>6</td>\n",
       "      <td>None</td>\n",
       "      <td>None</td>\n",
       "      <td>MD</td>\n",
       "      <td>None</td>\n",
       "      <td>Feb</td>\n",
       "      <td>None</td>\n",
       "      <td>4500.0</td>\n",
       "      <td>2012</td>\n",
       "      <td>None</td>\n",
       "      <td>...</td>\n",
       "      <td>None</td>\n",
       "      <td>None</td>\n",
       "      <td>None</td>\n",
       "      <td>Intra-State/Territor Non-resident (diff county)</td>\n",
       "      <td>S</td>\n",
       "      <td>None</td>\n",
       "      <td>births12.txt</td>\n",
       "      <td>1328297029</td>\n",
       "      <td>None</td>\n",
       "      <td>51.0</td>\n",
       "    </tr>\n",
       "    <tr>\n",
       "      <th>7</th>\n",
       "      <td>7</td>\n",
       "      <td>None</td>\n",
       "      <td>None</td>\n",
       "      <td>MD</td>\n",
       "      <td>None</td>\n",
       "      <td>Feb</td>\n",
       "      <td>None</td>\n",
       "      <td>4000.0</td>\n",
       "      <td>2012</td>\n",
       "      <td>None</td>\n",
       "      <td>...</td>\n",
       "      <td>None</td>\n",
       "      <td>None</td>\n",
       "      <td>None</td>\n",
       "      <td>Intra-State/Territor Non-resident (diff county)</td>\n",
       "      <td>S</td>\n",
       "      <td>None</td>\n",
       "      <td>births12.txt</td>\n",
       "      <td>1328741505</td>\n",
       "      <td>None</td>\n",
       "      <td>40.0</td>\n",
       "    </tr>\n",
       "    <tr>\n",
       "      <th>8</th>\n",
       "      <td>8</td>\n",
       "      <td>None</td>\n",
       "      <td>None</td>\n",
       "      <td>MD</td>\n",
       "      <td>None</td>\n",
       "      <td>Feb</td>\n",
       "      <td>None</td>\n",
       "      <td>5000.0</td>\n",
       "      <td>2012</td>\n",
       "      <td>None</td>\n",
       "      <td>...</td>\n",
       "      <td>None</td>\n",
       "      <td>None</td>\n",
       "      <td>None</td>\n",
       "      <td>Resident</td>\n",
       "      <td>S</td>\n",
       "      <td>None</td>\n",
       "      <td>births12.txt</td>\n",
       "      <td>1329199307</td>\n",
       "      <td>None</td>\n",
       "      <td>50.0</td>\n",
       "    </tr>\n",
       "    <tr>\n",
       "      <th>9</th>\n",
       "      <td>9</td>\n",
       "      <td>None</td>\n",
       "      <td>None</td>\n",
       "      <td>MD</td>\n",
       "      <td>None</td>\n",
       "      <td>Feb</td>\n",
       "      <td>None</td>\n",
       "      <td>4500.0</td>\n",
       "      <td>2012</td>\n",
       "      <td>None</td>\n",
       "      <td>...</td>\n",
       "      <td>None</td>\n",
       "      <td>None</td>\n",
       "      <td>None</td>\n",
       "      <td>Intra-State/Territor Non-resident (diff county)</td>\n",
       "      <td>S</td>\n",
       "      <td>None</td>\n",
       "      <td>births12.txt</td>\n",
       "      <td>1329642398</td>\n",
       "      <td>None</td>\n",
       "      <td>34.0</td>\n",
       "    </tr>\n",
       "  </tbody>\n",
       "</table>\n",
       "<p>10 rows × 38 columns</p>\n",
       "</div>"
      ],
      "text/plain": [
       "   index alcohol_use anencephaly                   attendant birth_loc_type  \\\n",
       "0      0        None        None                          MD           None   \n",
       "1      1        None        None                          MD           None   \n",
       "2      2        None        None                          MD           None   \n",
       "3      3        None        None                          MD           None   \n",
       "4      4        None        None                          MD           None   \n",
       "5      5        None        None  Certified Nurse or Midwife           None   \n",
       "6      6        None        None                          MD           None   \n",
       "7      7        None        None                          MD           None   \n",
       "8      8        None        None                          MD           None   \n",
       "9      9        None        None                          MD           None   \n",
       "\n",
       "  birth_month birth_state  birth_weight  birth_year cigarette_use     ...      \\\n",
       "0         Jan        None        4500.0        2012          None     ...       \n",
       "1         Jan        None        4500.0        2012          None     ...       \n",
       "2         Jan        None        2500.0        2012          None     ...       \n",
       "3         Jan        None        3000.0        2012          None     ...       \n",
       "4         Jan        None        4000.0        2012          None     ...       \n",
       "5         Jan        None        8165.0        2012          None     ...       \n",
       "6         Feb        None        4500.0        2012          None     ...       \n",
       "7         Feb        None        4000.0        2012          None     ...       \n",
       "8         Feb        None        5000.0        2012          None     ...       \n",
       "9         Feb        None        4500.0        2012          None     ...       \n",
       "\n",
       "  mother_state population pregnancy_weight  \\\n",
       "0         None       None             None   \n",
       "1         None       None             None   \n",
       "2         None       None             None   \n",
       "3         None       None             None   \n",
       "4         None       None             None   \n",
       "5         None       None             None   \n",
       "6         None       None             None   \n",
       "7         None       None             None   \n",
       "8         None       None             None   \n",
       "9         None       None             None   \n",
       "\n",
       "                                          resident revision spina_bifida  \\\n",
       "0                                         Resident        S         None   \n",
       "1  Intra-State/Territor Non-resident (diff county)        S         None   \n",
       "2                                         Resident        S         None   \n",
       "3                                         Resident        S         None   \n",
       "4  Intra-State/Territor Non-resident (diff county)        S         None   \n",
       "5  Intra-State/Territor Non-resident (diff county)        S         None   \n",
       "6  Intra-State/Territor Non-resident (diff county)        S         None   \n",
       "7  Intra-State/Territor Non-resident (diff county)        S         None   \n",
       "8                                         Resident        S         None   \n",
       "9  Intra-State/Territor Non-resident (diff county)        S         None   \n",
       "\n",
       "          table   timestamp uses_tobacco weight_gain  \n",
       "0  births12.txt  1325405431         None        40.0  \n",
       "1  births12.txt  1325882986         None        49.0  \n",
       "2  births12.txt  1326367089         None        30.0  \n",
       "3  births12.txt  1326838810         None        15.0  \n",
       "4  births12.txt  1327339729         None        48.0  \n",
       "5  births12.txt  1327819183         None        39.0  \n",
       "6  births12.txt  1328297029         None        51.0  \n",
       "7  births12.txt  1328741505         None        40.0  \n",
       "8  births12.txt  1329199307         None        50.0  \n",
       "9  births12.txt  1329642398         None        34.0  \n",
       "\n",
       "[10 rows x 38 columns]"
      ]
     },
     "execution_count": 8,
     "metadata": {},
     "output_type": "execute_result"
    }
   ],
   "source": [
    "pd.read_sql(\"SELECT * FROM birth_data LIMIT 10\", engine)"
   ]
  },
  {
   "cell_type": "markdown",
   "metadata": {},
   "source": [
    "# Explore with SQLAlchemy"
   ]
  },
  {
   "cell_type": "code",
   "execution_count": 92,
   "metadata": {},
   "outputs": [],
   "source": [
    "from sqlalchemy import select, MetaData, Table"
   ]
  },
  {
   "cell_type": "code",
   "execution_count": 93,
   "metadata": {},
   "outputs": [],
   "source": [
    "from sqlalchemy import select\n",
    "\n",
    "# Reflect census table via engine\n",
    "metadata = MetaData()\n",
    "birth_data = Table('birth_data', metadata, autoload=True, autoload_with=engine)"
   ]
  },
  {
   "cell_type": "code",
   "execution_count": 94,
   "metadata": {},
   "outputs": [
    {
     "name": "stdout",
     "output_type": "stream",
     "text": [
      "Table('birth_data', MetaData(bind=None), Column('index', BIGINT(), table=<birth_data>), Column('Unnamed: 0', BIGINT(), table=<birth_data>), Column('alcohol_use', DOUBLE_PRECISION(precision=53), table=<birth_data>), Column('anencephaly', DOUBLE_PRECISION(precision=53), table=<birth_data>), Column('attendant', TEXT(), table=<birth_data>), Column('birth_loc_type', DOUBLE_PRECISION(precision=53), table=<birth_data>), Column('birth_month', TEXT(), table=<birth_data>), Column('birth_state', DOUBLE_PRECISION(precision=53), table=<birth_data>), Column('birth_weight', DOUBLE_PRECISION(precision=53), table=<birth_data>), Column('birth_year', BIGINT(), table=<birth_data>), Column('cigarette_use', DOUBLE_PRECISION(precision=53), table=<birth_data>), Column('cigarettes_per_day', DOUBLE_PRECISION(precision=53), table=<birth_data>), Column('cigarettes_trimester1', DOUBLE_PRECISION(precision=53), table=<birth_data>), Column('cigarettes_trimester2', DOUBLE_PRECISION(precision=53), table=<birth_data>), Column('cigarettes_trimester3', DOUBLE_PRECISION(precision=53), table=<birth_data>), Column('day', TEXT(), table=<birth_data>), Column('delivery_method', TEXT(), table=<birth_data>), Column('downs syndrome', DOUBLE_PRECISION(precision=53), table=<birth_data>), Column('drinks_per_week', DOUBLE_PRECISION(precision=53), table=<birth_data>), Column('father_age', DOUBLE_PRECISION(precision=53), table=<birth_data>), Column('father_race', TEXT(), table=<birth_data>), Column('gestation_weeks', DOUBLE_PRECISION(precision=53), table=<birth_data>), Column('infant_sex', TEXT(), table=<birth_data>), Column('mother_age', BIGINT(), table=<birth_data>), Column('mother_birth_country', DOUBLE_PRECISION(precision=53), table=<birth_data>), Column('mother_birth_state', DOUBLE_PRECISION(precision=53), table=<birth_data>), Column('mother_education', TEXT(), table=<birth_data>), Column('mother_marital_status', TEXT(), table=<birth_data>), Column('mother_race', TEXT(), table=<birth_data>), Column('mother_state', DOUBLE_PRECISION(precision=53), table=<birth_data>), Column('population', DOUBLE_PRECISION(precision=53), table=<birth_data>), Column('pregnancy_weight', DOUBLE_PRECISION(precision=53), table=<birth_data>), Column('resident', TEXT(), table=<birth_data>), Column('revision', TEXT(), table=<birth_data>), Column('spina_bifida', DOUBLE_PRECISION(precision=53), table=<birth_data>), Column('table', TEXT(), table=<birth_data>), Column('timestamp', BIGINT(), table=<birth_data>), Column('uses_tobacco', DOUBLE_PRECISION(precision=53), table=<birth_data>), Column('weight_gain', DOUBLE_PRECISION(precision=53), table=<birth_data>), schema=None)\n"
     ]
    }
   ],
   "source": [
    "print(repr(metadata.tables['birth_data']))"
   ]
  },
  {
   "cell_type": "code",
   "execution_count": 95,
   "metadata": {},
   "outputs": [
    {
     "name": "stdout",
     "output_type": "stream",
     "text": [
      "['index', 'Unnamed: 0', 'alcohol_use', 'anencephaly', 'attendant', 'birth_loc_type', 'birth_month', 'birth_state', 'birth_weight', 'birth_year', 'cigarette_use', 'cigarettes_per_day', 'cigarettes_trimester1', 'cigarettes_trimester2', 'cigarettes_trimester3', 'day', 'delivery_method', 'downs syndrome', 'drinks_per_week', 'father_age', 'father_race', 'gestation_weeks', 'infant_sex', 'mother_age', 'mother_birth_country', 'mother_birth_state', 'mother_education', 'mother_marital_status', 'mother_race', 'mother_state', 'population', 'pregnancy_weight', 'resident', 'revision', 'spina_bifida', 'table', 'timestamp', 'uses_tobacco', 'weight_gain']\n"
     ]
    }
   ],
   "source": [
    "print(birth_data.columns.keys())"
   ]
  },
  {
   "cell_type": "markdown",
   "metadata": {},
   "source": [
    "Create a connection to use for queries."
   ]
  },
  {
   "cell_type": "code",
   "execution_count": 96,
   "metadata": {},
   "outputs": [],
   "source": [
    "connection = engine.connect()"
   ]
  },
  {
   "cell_type": "code",
   "execution_count": 97,
   "metadata": {},
   "outputs": [],
   "source": [
    "stmt = \"SELECT * FROM birth_data\"\n",
    "\n",
    "results = connection.execute(stmt).fetchall()"
   ]
  },
  {
   "cell_type": "markdown",
   "metadata": {},
   "source": [
    "First results"
   ]
  },
  {
   "cell_type": "code",
   "execution_count": 98,
   "metadata": {},
   "outputs": [
    {
     "data": {
      "text/plain": [
       "[(0, 0, None, None, 'MD', None, 'Jan', None, 4500.0, 2012, None, None, None, None, None, 'Fri', 'Vaginal', None, None, None, None, 40.0, 'M', 32, None, None, None, 'Yes', 'White', None, None, None, 'Resident', 'S', None, 'births12.txt', 1325405431, None, 40.0)]"
      ]
     },
     "execution_count": 98,
     "metadata": {},
     "output_type": "execute_result"
    }
   ],
   "source": [
    "results[:1]"
   ]
  },
  {
   "cell_type": "markdown",
   "metadata": {},
   "source": [
    "Alternatively use `fetchone()` method."
   ]
  },
  {
   "cell_type": "code",
   "execution_count": 99,
   "metadata": {},
   "outputs": [
    {
     "data": {
      "text/plain": [
       "(0, 0, None, None, 'MD', None, 'Jan', None, 4500.0, 2012, None, None, None, None, None, 'Fri', 'Vaginal', None, None, None, None, 40.0, 'M', 32, None, None, None, 'Yes', 'White', None, None, None, 'Resident', 'S', None, 'births12.txt', 1325405431, None, 40.0)"
      ]
     },
     "execution_count": 99,
     "metadata": {},
     "output_type": "execute_result"
    }
   ],
   "source": [
    "connection.execute(stmt).fetchone()"
   ]
  },
  {
   "cell_type": "markdown",
   "metadata": {},
   "source": [
    "The following examples use the SQLAlchemy expression language to generate various statements."
   ]
  },
  {
   "cell_type": "code",
   "execution_count": 104,
   "metadata": {},
   "outputs": [
    {
     "data": {
      "text/plain": [
       "sqlalchemy.sql.selectable.Select"
      ]
     },
     "execution_count": 104,
     "metadata": {},
     "output_type": "execute_result"
    }
   ],
   "source": [
    "stmt = select([birth_data])\n",
    "type(stmt)"
   ]
  },
  {
   "cell_type": "markdown",
   "metadata": {},
   "source": [
    "Printing this object simply prints a SQL query. The advantage of SQLAlchemy is that it coverts the statement to the speicfic query language."
   ]
  },
  {
   "cell_type": "code",
   "execution_count": 106,
   "metadata": {},
   "outputs": [
    {
     "name": "stdout",
     "output_type": "stream",
     "text": [
      "SELECT birth_data.index, birth_data.\"Unnamed: 0\", birth_data.alcohol_use, birth_data.anencephaly, birth_data.attendant, birth_data.birth_loc_type, birth_data.birth_month, birth_data.birth_state, birth_data.birth_weight, birth_data.birth_year, birth_data.cigarette_use, birth_data.cigarettes_per_day, birth_data.cigarettes_trimester1, birth_data.cigarettes_trimester2, birth_data.cigarettes_trimester3, birth_data.day, birth_data.delivery_method, birth_data.\"downs syndrome\", birth_data.drinks_per_week, birth_data.father_age, birth_data.father_race, birth_data.gestation_weeks, birth_data.infant_sex, birth_data.mother_age, birth_data.mother_birth_country, birth_data.mother_birth_state, birth_data.mother_education, birth_data.mother_marital_status, birth_data.mother_race, birth_data.mother_state, birth_data.population, birth_data.pregnancy_weight, birth_data.resident, birth_data.revision, birth_data.spina_bifida, birth_data.\"table\", birth_data.timestamp, birth_data.uses_tobacco, birth_data.weight_gain \n",
      "FROM birth_data\n"
     ]
    }
   ],
   "source": [
    "print(stmt)"
   ]
  },
  {
   "cell_type": "code",
   "execution_count": 107,
   "metadata": {},
   "outputs": [
    {
     "data": {
      "text/plain": [
       "(0, 0, None, None, 'MD', None, 'Jan', None, 4500.0, 2012, None, None, None, None, None, 'Fri', 'Vaginal', None, None, None, None, 40.0, 'M', 32, None, None, None, 'Yes', 'White', None, None, None, 'Resident', 'S', None, 'births12.txt', 1325405431, None, 40.0)"
      ]
     },
     "execution_count": 107,
     "metadata": {},
     "output_type": "execute_result"
    }
   ],
   "source": [
    "connection.execute(stmt).fetchone()"
   ]
  },
  {
   "cell_type": "code",
   "execution_count": 108,
   "metadata": {},
   "outputs": [
    {
     "name": "stdout",
     "output_type": "stream",
     "text": [
      "(0, None)\n",
      "(1, None)\n",
      "(2, None)\n",
      "(3, None)\n",
      "(4, None)\n",
      "(5, None)\n",
      "(6, None)\n",
      "(7, None)\n",
      "(8, None)\n",
      "(9, None)\n"
     ]
    }
   ],
   "source": [
    "from itertools import islice\n",
    "for res in islice(results, 10):\n",
    "    print((res.index, res.alcohol_use))"
   ]
  },
  {
   "cell_type": "markdown",
   "metadata": {},
   "source": [
    "```\n",
    "SELECT * FROM birth_data_table WHERE infant_sex='M';\n",
    "```"
   ]
  },
  {
   "cell_type": "code",
   "execution_count": 109,
   "metadata": {},
   "outputs": [],
   "source": [
    "stmt = select([birth_data]).\\\n",
    "    where(birth_data.columns.infant_sex == \"M\").\\\n",
    "    limit(3)"
   ]
  },
  {
   "cell_type": "code",
   "execution_count": 110,
   "metadata": {},
   "outputs": [
    {
     "data": {
      "text/plain": [
       "[(0, 0, None, None, 'MD', None, 'Jan', None, 4500.0, 2012, None, None, None, None, None, 'Fri', 'Vaginal', None, None, None, None, 40.0, 'M', 32, None, None, None, 'Yes', 'White', None, None, None, 'Resident', 'S', None, 'births12.txt', 1325405431, None, 40.0),\n",
       " (2, 2, None, None, 'MD', None, 'Jan', None, 2500.0, 2012, None, None, None, None, None, 'Sat', 'Cesarean', None, None, None, None, 36.0, 'M', 28, None, None, None, 'No', 'Black', None, None, None, 'Resident', 'S', None, 'births12.txt', 1326367089, None, 30.0),\n",
       " (3, 3, None, None, 'MD', None, 'Jan', None, 3000.0, 2012, None, None, None, None, None, 'Sun', 'Vaginal', None, None, None, None, 40.0, 'M', 28, None, None, None, 'No', 'Black', None, None, None, 'Resident', 'S', None, 'births12.txt', 1326838810, None, 15.0)]"
      ]
     },
     "execution_count": 110,
     "metadata": {},
     "output_type": "execute_result"
    }
   ],
   "source": [
    "connection.execute(stmt).fetchall()"
   ]
  },
  {
   "cell_type": "markdown",
   "metadata": {},
   "source": [
    "```\n",
    "SELECT COUNT(infant_sex) FROM birth_data_table WHERE infant_sex='M';\n",
    "```"
   ]
  },
  {
   "cell_type": "code",
   "execution_count": 111,
   "metadata": {},
   "outputs": [],
   "source": [
    "from sqlalchemy import func"
   ]
  },
  {
   "cell_type": "code",
   "execution_count": 112,
   "metadata": {},
   "outputs": [],
   "source": [
    "stmt = select([func.count(birth_data.columns.infant_sex)]).\\\n",
    "    where(birth_data.columns.infant_sex == \"M\").\\\n",
    "    limit(3)"
   ]
  },
  {
   "cell_type": "markdown",
   "metadata": {},
   "source": [
    "Since this returns one value, I can return it as a scalar."
   ]
  },
  {
   "cell_type": "code",
   "execution_count": 113,
   "metadata": {},
   "outputs": [
    {
     "data": {
      "text/plain": [
       "1394"
      ]
     },
     "execution_count": 113,
     "metadata": {},
     "output_type": "execute_result"
    }
   ],
   "source": [
    "connection.execute(stmt).scalar()"
   ]
  },
  {
   "cell_type": "markdown",
   "metadata": {},
   "source": [
    "```\n",
    "SELECT COUNT(gestation_weeks), infant_sex FROM birth_data_table WHERE infant_sex = 'M' GROUP BY gestation_weeks, infant_sex;\n",
    "```"
   ]
  },
  {
   "cell_type": "markdown",
   "metadata": {},
   "source": [
    "Statements can also be executed by `pandas.read_sql`."
   ]
  },
  {
   "cell_type": "code",
   "execution_count": 80,
   "metadata": {},
   "outputs": [
    {
     "data": {
      "text/html": [
       "<div>\n",
       "<style scoped>\n",
       "    .dataframe tbody tr th:only-of-type {\n",
       "        vertical-align: middle;\n",
       "    }\n",
       "\n",
       "    .dataframe tbody tr th {\n",
       "        vertical-align: top;\n",
       "    }\n",
       "\n",
       "    .dataframe thead th {\n",
       "        text-align: right;\n",
       "    }\n",
       "</style>\n",
       "<table border=\"1\" class=\"dataframe\">\n",
       "  <thead>\n",
       "    <tr style=\"text-align: right;\">\n",
       "      <th></th>\n",
       "      <th>gestation_weeks</th>\n",
       "      <th>count</th>\n",
       "    </tr>\n",
       "  </thead>\n",
       "  <tbody>\n",
       "    <tr>\n",
       "      <th>0</th>\n",
       "      <td>31.0</td>\n",
       "      <td>14</td>\n",
       "    </tr>\n",
       "    <tr>\n",
       "      <th>1</th>\n",
       "      <td>33.0</td>\n",
       "      <td>18</td>\n",
       "    </tr>\n",
       "    <tr>\n",
       "      <th>2</th>\n",
       "      <td>38.0</td>\n",
       "      <td>365</td>\n",
       "    </tr>\n",
       "    <tr>\n",
       "      <th>3</th>\n",
       "      <td>27.0</td>\n",
       "      <td>3</td>\n",
       "    </tr>\n",
       "    <tr>\n",
       "      <th>4</th>\n",
       "      <td>41.0</td>\n",
       "      <td>99</td>\n",
       "    </tr>\n",
       "    <tr>\n",
       "      <th>5</th>\n",
       "      <td>42.0</td>\n",
       "      <td>83</td>\n",
       "    </tr>\n",
       "    <tr>\n",
       "      <th>6</th>\n",
       "      <td>20.0</td>\n",
       "      <td>1</td>\n",
       "    </tr>\n",
       "    <tr>\n",
       "      <th>7</th>\n",
       "      <td>36.0</td>\n",
       "      <td>130</td>\n",
       "    </tr>\n",
       "    <tr>\n",
       "      <th>8</th>\n",
       "      <td>40.0</td>\n",
       "      <td>275</td>\n",
       "    </tr>\n",
       "    <tr>\n",
       "      <th>9</th>\n",
       "      <td>39.0</td>\n",
       "      <td>406</td>\n",
       "    </tr>\n",
       "  </tbody>\n",
       "</table>\n",
       "</div>"
      ],
      "text/plain": [
       "   gestation_weeks  count\n",
       "0             31.0     14\n",
       "1             33.0     18\n",
       "2             38.0    365\n",
       "3             27.0      3\n",
       "4             41.0     99\n",
       "5             42.0     83\n",
       "6             20.0      1\n",
       "7             36.0    130\n",
       "8             40.0    275\n",
       "9             39.0    406"
      ]
     },
     "execution_count": 80,
     "metadata": {},
     "output_type": "execute_result"
    }
   ],
   "source": [
    "stmt = select([birth_data.columns.gestation_weeks, \n",
    "               func.count(birth_data.columns.gestation_weeks).label(\"count\")]).\\\n",
    "    where(birth_data.columns.infant_sex == \"M\").\\\n",
    "    group_by(birth_data.columns.gestation_weeks)\n",
    "pd.read_sql(stmt, connection)\n"
   ]
  },
  {
   "cell_type": "markdown",
   "metadata": {},
   "source": [
    "Loop of and print parts of the results"
   ]
  },
  {
   "cell_type": "markdown",
   "metadata": {},
   "source": [
    "# Creating the Database After Starting"
   ]
  },
  {
   "cell_type": "markdown",
   "metadata": {},
   "source": [
    "I could have avoided creating the database, createing the `birth_data` table, or loading the csv into the table from here."
   ]
  },
  {
   "cell_type": "code",
   "execution_count": 81,
   "metadata": {},
   "outputs": [],
   "source": [
    "from sqlalchemy_utils import create_database, drop_database"
   ]
  },
  {
   "cell_type": "code",
   "execution_count": 82,
   "metadata": {},
   "outputs": [],
   "source": [
    "from sqlalchemy.exc import ProgrammingError\n",
    "try:\n",
    "    drop_database(db_uri)\n",
    "except ProgrammingError:\n",
    "    pass"
   ]
  },
  {
   "cell_type": "code",
   "execution_count": 83,
   "metadata": {},
   "outputs": [],
   "source": [
    "create_database(db_uri)"
   ]
  },
  {
   "cell_type": "code",
   "execution_count": 84,
   "metadata": {},
   "outputs": [],
   "source": [
    "# need new engine since old db destroyed\n",
    "engine = create_engine(db_uri)"
   ]
  },
  {
   "cell_type": "code",
   "execution_count": 85,
   "metadata": {},
   "outputs": [],
   "source": [
    "birth_data = pd.read_csv(\"births2012_downsampled.csv\")"
   ]
  },
  {
   "cell_type": "code",
   "execution_count": 86,
   "metadata": {},
   "outputs": [],
   "source": [
    "birth_data.to_sql(\"birth_data\", db_uri)"
   ]
  },
  {
   "cell_type": "markdown",
   "metadata": {},
   "source": [
    "# Pandas and SQL"
   ]
  },
  {
   "cell_type": "markdown",
   "metadata": {},
   "source": [
    "This is a cool trick I want to remember. I used SQLAlachemy/pandas to write the `CREATE TABLE` statement. Pandas does this in the background with `to_sql`, but the methods it uses are private and took a little digging."
   ]
  },
  {
   "cell_type": "code",
   "execution_count": 87,
   "metadata": {},
   "outputs": [],
   "source": [
    "from pandas.io.sql import SQLDatabase, SQLTable"
   ]
  },
  {
   "cell_type": "code",
   "execution_count": 13,
   "metadata": {},
   "outputs": [],
   "source": [
    "db = SQLDatabase(engine)"
   ]
  },
  {
   "cell_type": "code",
   "execution_count": 22,
   "metadata": {},
   "outputs": [],
   "source": [
    "birth_data = birth_data.reset_index()"
   ]
  },
  {
   "cell_type": "code",
   "execution_count": 23,
   "metadata": {},
   "outputs": [
    {
     "name": "stdout",
     "output_type": "stream",
     "text": [
      "\n",
      "CREATE TABLE birth_data_table (\n",
      "\tindex BIGSERIAL NOT NULL, \n",
      "\talcohol_use FLOAT(53), \n",
      "\tanencephaly FLOAT(53), \n",
      "\tattendant TEXT, \n",
      "\tbirth_loc_type FLOAT(53), \n",
      "\tbirth_month TEXT, \n",
      "\tbirth_state FLOAT(53), \n",
      "\tbirth_weight FLOAT(53), \n",
      "\tbirth_year BIGINT, \n",
      "\tcigarette_use FLOAT(53), \n",
      "\tcigarettes_per_day FLOAT(53), \n",
      "\tcigarettes_trimester1 FLOAT(53), \n",
      "\tcigarettes_trimester2 FLOAT(53), \n",
      "\tcigarettes_trimester3 FLOAT(53), \n",
      "\tday TEXT, \n",
      "\tdelivery_method TEXT, \n",
      "\t\"downs syndrome\" FLOAT(53), \n",
      "\tdrinks_per_week FLOAT(53), \n",
      "\tfather_age FLOAT(53), \n",
      "\tfather_race TEXT, \n",
      "\tgestation_weeks FLOAT(53), \n",
      "\tinfant_sex TEXT, \n",
      "\tmother_age BIGINT, \n",
      "\tmother_birth_country FLOAT(53), \n",
      "\tmother_birth_state FLOAT(53), \n",
      "\tmother_education TEXT, \n",
      "\tmother_marital_status TEXT, \n",
      "\tmother_race TEXT, \n",
      "\tmother_state FLOAT(53), \n",
      "\tpopulation FLOAT(53), \n",
      "\tpregnancy_weight FLOAT(53), \n",
      "\tresident TEXT, \n",
      "\trevision TEXT, \n",
      "\tspina_bifida FLOAT(53), \n",
      "\t\"table\" TEXT, \n",
      "\ttimestamp BIGINT, \n",
      "\tuses_tobacco FLOAT(53), \n",
      "\tweight_gain FLOAT(53), \n",
      "\tCONSTRAINT birth_data_table_pk PRIMARY KEY (index)\n",
      ")\n",
      "\n",
      "\n"
     ]
    }
   ],
   "source": [
    "print(db._create_sql_schema(table_name='birth_data_table', frame=birth_data, keys=['index']))"
   ]
  }
 ],
 "metadata": {
  "anaconda-cloud": {},
  "kernelspec": {
   "display_name": "Python 3",
   "language": "python",
   "name": "python3"
  },
  "language_info": {
   "codemirror_mode": {
    "name": "ipython",
    "version": 3
   },
   "file_extension": ".py",
   "mimetype": "text/x-python",
   "name": "python",
   "nbconvert_exporter": "python",
   "pygments_lexer": "ipython3",
   "version": "3.6.6"
  }
 },
 "nbformat": 4,
 "nbformat_minor": 1
}
